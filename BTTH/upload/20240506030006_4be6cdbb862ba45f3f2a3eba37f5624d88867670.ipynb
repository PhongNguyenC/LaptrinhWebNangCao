{
  "nbformat": 4,
  "nbformat_minor": 0,
  "metadata": {
    "colab": {
      "provenance": []
    },
    "kernelspec": {
      "name": "python3",
      "display_name": "Python 3"
    },
    "language_info": {
      "name": "python"
    }
  },
  "cells": [
    {
      "cell_type": "code",
      "execution_count": null,
      "metadata": {
        "id": "lynPm4rpA8Tv"
      },
      "outputs": [],
      "source": [
        "import numpy as np\n",
        "\n",
        "def clean_text(text, key_length):\n",
        "    text = text.upper().replace(\" \", \"\")\n",
        "    text = [char if char.isalpha() else \"A\" for char in text]\n",
        "    while len(text) % key_length != 0:\n",
        "        text.append(\"A\")\n",
        "    return \"\".join(text)\n",
        "\n",
        "def matrix_mod_inverse(matrix, modulus):\n",
        "    det = int(np.linalg.det(matrix)) % modulus\n",
        "    det_inverse = None\n",
        "    for i in range(modulus):\n",
        "        if (det * i) % modulus == 1:\n",
        "            det_inverse = i\n",
        "            break\n",
        "    if det_inverse is None:\n",
        "        raise ValueError(\"Matrix is not invertible under the given modulus.\")\n",
        "    inverse = np.linalg.inv(matrix)\n",
        "    inverse_mod = (inverse * det * det_inverse) % modulus\n",
        "    return np.array(inverse_mod, dtype=int)\n",
        "\n",
        "def matrix_to_text(matrix, key_length):\n",
        "    text = \"\"\n",
        "    for i in range(0, len(matrix), key_length):\n",
        "        text += \"\".join([chr(matrix[i+j] % 26 + ord(\"A\")) for j in range(key_length)])\n",
        "    return text\n",
        "\n",
        "\n"
      ]
    },
    {
      "cell_type": "code",
      "source": [
        "def hill_encrypt(plaintext, key_matrix):\n",
        "    key_length = key_matrix.shape[0]\n",
        "    plaintext = clean_text(plaintext, key_length)\n",
        "\n",
        "    encrypted_text = \"\"\n",
        "    for i in range(0, len(plaintext), key_length):\n",
        "        chunk = plaintext[i:i+key_length]\n",
        "        chunk_indices = [ord(char) - ord(\"A\") for char in chunk]\n",
        "        encrypted_chunk_matrix = np.dot(key_matrix, chunk_indices) % 26\n",
        "        encrypted_text += matrix_to_text(encrypted_chunk_matrix, key_length)\n",
        "\n",
        "    return encrypted_text\n",
        "\n",
        "key_matrix = np.array([[6, 24, 1], [13, 16, 10], [20, 17, 15]])\n",
        "plaintext = \"HELLOHILL\"\n",
        "encrypted_text = hill_encrypt(plaintext, key_matrix)\n",
        "\n",
        "print(\"Plaintext:\", plaintext)\n",
        "print(\"Encrypted:\", encrypted_text)"
      ],
      "metadata": {
        "colab": {
          "base_uri": "https://localhost:8080/"
        },
        "id": "Am5dxL3ZCl4V",
        "outputId": "de55e6e6-1fdf-45be-d2fb-ceca6dc78b93"
      },
      "execution_count": null,
      "outputs": [
        {
          "output_type": "stream",
          "name": "stdout",
          "text": [
            "Plaintext: HELLOHILL\n",
            "Encrypted: TFJTVRLAS\n"
          ]
        }
      ]
    },
    {
      "cell_type": "code",
      "source": [
        "!pip install sympy"
      ],
      "metadata": {
        "colab": {
          "base_uri": "https://localhost:8080/"
        },
        "id": "nkfmYJK4DtOf",
        "outputId": "f57d7327-7eb3-4a7e-cf40-7c6cc8a841e6"
      },
      "execution_count": null,
      "outputs": [
        {
          "output_type": "stream",
          "name": "stdout",
          "text": [
            "Requirement already satisfied: sympy in /usr/local/lib/python3.10/dist-packages (1.12)\n",
            "Requirement already satisfied: mpmath>=0.19 in /usr/local/lib/python3.10/dist-packages (from sympy) (1.3.0)\n"
          ]
        }
      ]
    },
    {
      "cell_type": "code",
      "source": [
        "from sympy import Matrix\n",
        "def hill_decrypt(encrypted_text, key_matrix):\n",
        "    key_length = key_matrix.shape[0]\n",
        "    inverse_key_matrix = matrix_mod_inverse(key_matrix, 26)\n",
        "\n",
        "    decrypted_text = \"\"\n",
        "    for i in range(0, len(encrypted_text), key_length):\n",
        "        chunk = encrypted_text[i:i+key_length]\n",
        "        chunk_indices = [ord(char) - ord(\"A\") for char in chunk]\n",
        "        chunk_matrix = Matrix(np.array(chunk_indices).reshape((key_length, 1)))\n",
        "        decrypted_chunk_matrix = inverse_key_matrix * chunk_matrix\n",
        "        decrypted_text += matrix_to_text(decrypted_chunk_matrix, key_length)\n",
        "\n",
        "    return decrypted_text\n",
        "\n",
        "decrypted_text = hill_decrypt(encrypted_text, key_matrix)\n",
        "print(\"Decrypted:\", decrypted_text)\n"
      ],
      "metadata": {
        "colab": {
          "base_uri": "https://localhost:8080/"
        },
        "id": "gmNCunvoBJK_",
        "outputId": "00f84e4a-ced1-49d3-ee1c-575337c73744"
      },
      "execution_count": null,
      "outputs": [
        {
          "output_type": "stream",
          "name": "stdout",
          "text": [
            "Decrypted: LZPHHJJPV\n"
          ]
        }
      ]
    },
    {
      "cell_type": "code",
      "source": [
        "import numpy as np\n",
        "#Mã brute force của Hill\n",
        "def matrix_mod_inverse(matrix, modulus):\n",
        "    det = int(np.linalg.det(matrix)) % modulus\n",
        "    det_inverse = None\n",
        "    for i in range(modulus):\n",
        "        if (det * i) % modulus == 1:\n",
        "            det_inverse = i\n",
        "            break\n",
        "    if det_inverse is None:\n",
        "        raise ValueError(\"Matrix is not invertible under the given modulus.\")\n",
        "    inverse = np.linalg.inv(matrix)\n",
        "    inverse_mod = (inverse * det * det_inverse) % modulus\n",
        "    return np.array(inverse_mod, dtype=int)\n",
        "\n",
        "def hill_decrypt(encrypted_text, key_matrix):\n",
        "    key_length = key_matrix.shape[0]\n",
        "    inverse_key_matrix = matrix_mod_inverse(key_matrix, 26)\n",
        "\n",
        "    decrypted_text = \"\"\n",
        "    for i in range(0, len(encrypted_text), key_length):\n",
        "        chunk = encrypted_text[i:i+key_length]\n",
        "        chunk_indices = [ord(char) - ord(\"A\") for char in chunk]\n",
        "        decrypted_chunk_matrix = np.dot(inverse_key_matrix, chunk_indices) % 26\n",
        "        decrypted_text += \"\".join([chr(decrypted_chunk_matrix[j] + ord(\"A\")) for j in range(key_length)])\n",
        "\n",
        "    return decrypted_text\n",
        "\n",
        "encrypted_text = \"ILBVDYSDTJ\"\n",
        "possible_key_length = 3  # In this case, the key length is known\n",
        "\n",
        "# Generate all possible key matrices\n",
        "possible_key_matrices = []\n",
        "for i in range(26):\n",
        "    for j in range(26):\n",
        "        for k in range(26):\n",
        "            for l in range(26):\n",
        "                for m in range(26):\n",
        "                    for n in range(26):\n",
        "                        for o in range(26):\n",
        "                            for p in range(26):\n",
        "                                for q in range(26):\n",
        "                                    possible_key_matrices.append(np.array([[i, j, k], [l, m, n], [o, p, q]]))\n",
        "\n",
        "\n",
        "# Try decrypting with each key matrix\n",
        "for key_matrix in possible_key_matrices:\n",
        "    decrypted_text = hill_decrypt(encrypted_text, key_matrix)\n",
        "    print(\"Key Matrix:\", key_matrix)\n",
        "    print(\"Decrypted Text:\", decrypted_text)\n",
        "    print(\"-\" * 30)\n",
        "'''\n",
        "Vì tấn công brute force mã Hill này rất tốn dung lượng nên thường dùng cho các siêu máy tính dùng hơn.\n",
        "Ram e nhỏ nên không thể chạy được\n",
        "'''\n"
      ],
      "metadata": {
        "id": "XglzJhGwBMFt"
      },
      "execution_count": null,
      "outputs": []
    }
  ]
}